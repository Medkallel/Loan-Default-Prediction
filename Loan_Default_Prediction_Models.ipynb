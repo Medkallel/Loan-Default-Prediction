{
 "cells": [
  {
   "cell_type": "markdown",
   "metadata": {},
   "source": [
    "# Loan Default Prediction"
   ]
  },
  {
   "cell_type": "markdown",
   "metadata": {},
   "source": [
    "---"
   ]
  },
  {
   "cell_type": "markdown",
   "metadata": {},
   "source": [
    "## Content Table\n",
    "- [0. Environment Setup](#0.-Environment-Setup)\n",
    "- [1. Data Exploration & Management](#1.-Data-Exploration-&-Management)\n",
    "- [2. Feature Selection](#2.Feature-Selection)\n",
    "  - [A. Quantitative Data](#A.-Quantitative-Data)\n",
    "  - [B. Qualitative Data](#B.-Qualitative-Data)\n",
    "- [3. Final Data Preparation](#3.-Final-Data-Preparation)\n",
    "- [4. Statistical Modeling](#4.-Statistical-Modeling)\n",
    "  - [A. Multicollinearity tests](#A.-Multicollinearity-tests)\n",
    "  - [B. Data Standardization](#B.-Data-Standardization)\n",
    "  - [C. Model creation & fitting](#C.-Model-creation-&-fitting)\n",
    "  - [D. Model Optimization](#D.-Model-Optimization)\n",
    "  - [E. Model testing](#E.-Model-testing)\n",
    "- [5. Conclusion](#5.-Conclusion)"
   ]
  },
  {
   "cell_type": "markdown",
   "metadata": {},
   "source": [
    "## Project Overview\n",
    "\n",
    "This project aims to analyze the determinants for a woman being the primary source of revenue in a household using data from the \"Conditions de Travail 2013\" survey. The analysis will be focused on individuals living in couples in the same household.\n",
    "\n",
    "### Objectives\n",
    "The objective of the project is to analyze, based on the 2013 Working Conditions survey, the determinants for a woman being the primary source of revenue in the household.\n",
    "1. Data Exploration & Management: Explore the dataset and the available data and handle missing data.\n",
    "2. Feature Selection: The dataset presents 541 Columns/Features. A selection needs to be made to be able to conduct further analysis.\n",
    "3. Build and evaluate a logistic regression model to identify significant predictors of a women being the primary source of revenue in the household.\n",
    "\n",
    "### Dataset\n",
    "\n",
    "- **Source**: Conditions de Travail 2013 (Volet \"Actif\")\n",
    "- **Initial Dataset Size**: 33,673 individuals\n",
    "- **Filtered Dataset**: Individuals living in couples at the same household\n",
    "\n",
    "### Dependencies\n",
    "\n",
    "- Python libraries: pandas, numpy, matplotlib, seaborn, statsmodels, scikit-learn, plotly, scipy"
   ]
  },
  {
   "cell_type": "markdown",
   "metadata": {},
   "source": [
    "---"
   ]
  },
  {
   "cell_type": "markdown",
   "metadata": {},
   "source": [
    "## 1. Environment Prepration"
   ]
  },
  {
   "cell_type": "code",
   "execution_count": 9,
   "metadata": {},
   "outputs": [],
   "source": [
    "import mlflow\n",
    "import numpy as np\n",
    "import pandas as pd"
   ]
  },
  {
   "cell_type": "code",
   "execution_count": 10,
   "metadata": {},
   "outputs": [],
   "source": [
    "# Set environment variables\n",
    "data_path = \"Data/Processed_Loan_Data.csv\"\n",
    "models_path = \"Models/\"\n",
    "random_seed = 42  # Set the random seed for reproducibility"
   ]
  },
  {
   "cell_type": "markdown",
   "metadata": {},
   "source": [
    "### MlFlow Setup"
   ]
  },
  {
   "cell_type": "code",
   "execution_count": 157,
   "metadata": {},
   "outputs": [],
   "source": [
    "# Start local MLflow server\n",
    "# Run this in a terminal\n",
    "# mlflow server --host 127.0.0.1 --port 8080"
   ]
  },
  {
   "cell_type": "code",
   "execution_count": 11,
   "metadata": {},
   "outputs": [
    {
     "name": "stdout",
     "output_type": "stream",
     "text": [
      "Connected to MLflow server\n"
     ]
    }
   ],
   "source": [
    "# Cnnect to the MLflow tracking server\n",
    "try:\n",
    "    mlflow.set_tracking_uri(\"http://127.0.0.1:8080\")\n",
    "    client = mlflow.MlflowClient(tracking_uri=\"http://127.0.0.1:8080\")\n",
    "    print(\"Connected to MLflow server\")\n",
    "except:\n",
    "    print(\n",
    "        \"MLflow server is not running!\\nPlease execute the cell above in a terminal to launch the MLflow server.\"\n",
    "    )"
   ]
  },
  {
   "cell_type": "markdown",
   "metadata": {},
   "source": [
    "---"
   ]
  },
  {
   "cell_type": "markdown",
   "metadata": {},
   "source": [
    "## 2. Data Preprocessing"
   ]
  },
  {
   "cell_type": "code",
   "execution_count": 12,
   "metadata": {},
   "outputs": [
    {
     "data": {
      "text/html": [
       "<div>\n",
       "<style scoped>\n",
       "    .dataframe tbody tr th:only-of-type {\n",
       "        vertical-align: middle;\n",
       "    }\n",
       "\n",
       "    .dataframe tbody tr th {\n",
       "        vertical-align: top;\n",
       "    }\n",
       "\n",
       "    .dataframe thead th {\n",
       "        text-align: right;\n",
       "    }\n",
       "</style>\n",
       "<table border=\"1\" class=\"dataframe\">\n",
       "  <thead>\n",
       "    <tr style=\"text-align: right;\">\n",
       "      <th></th>\n",
       "      <th>credit_lines_outstanding</th>\n",
       "      <th>loan_amt_outstanding</th>\n",
       "      <th>total_debt_outstanding</th>\n",
       "      <th>income</th>\n",
       "      <th>years_employed</th>\n",
       "      <th>fico_score</th>\n",
       "      <th>default</th>\n",
       "    </tr>\n",
       "  </thead>\n",
       "  <tbody>\n",
       "    <tr>\n",
       "      <th>0</th>\n",
       "      <td>0</td>\n",
       "      <td>0.747058</td>\n",
       "      <td>-0.724812</td>\n",
       "      <td>0.398535</td>\n",
       "      <td>0.285411</td>\n",
       "      <td>-0.536743</td>\n",
       "      <td>False</td>\n",
       "    </tr>\n",
       "    <tr>\n",
       "      <th>1</th>\n",
       "      <td>5</td>\n",
       "      <td>-1.548297</td>\n",
       "      <td>-0.073963</td>\n",
       "      <td>-2.161768</td>\n",
       "      <td>-1.629243</td>\n",
       "      <td>-1.080777</td>\n",
       "      <td>True</td>\n",
       "    </tr>\n",
       "    <tr>\n",
       "      <th>2</th>\n",
       "      <td>0</td>\n",
       "      <td>-0.560481</td>\n",
       "      <td>-1.009645</td>\n",
       "      <td>-0.207909</td>\n",
       "      <td>-0.352807</td>\n",
       "      <td>-0.586201</td>\n",
       "      <td>False</td>\n",
       "    </tr>\n",
       "    <tr>\n",
       "      <th>3</th>\n",
       "      <td>0</td>\n",
       "      <td>0.427024</td>\n",
       "      <td>-0.938137</td>\n",
       "      <td>0.215073</td>\n",
       "      <td>0.285411</td>\n",
       "      <td>-0.421342</td>\n",
       "      <td>False</td>\n",
       "    </tr>\n",
       "    <tr>\n",
       "      <th>4</th>\n",
       "      <td>1</td>\n",
       "      <td>-1.979634</td>\n",
       "      <td>-1.048728</td>\n",
       "      <td>-2.321198</td>\n",
       "      <td>0.923629</td>\n",
       "      <td>-0.108110</td>\n",
       "      <td>False</td>\n",
       "    </tr>\n",
       "  </tbody>\n",
       "</table>\n",
       "</div>"
      ],
      "text/plain": [
       "   credit_lines_outstanding  loan_amt_outstanding  total_debt_outstanding  \\\n",
       "0                         0              0.747058               -0.724812   \n",
       "1                         5             -1.548297               -0.073963   \n",
       "2                         0             -0.560481               -1.009645   \n",
       "3                         0              0.427024               -0.938137   \n",
       "4                         1             -1.979634               -1.048728   \n",
       "\n",
       "     income  years_employed  fico_score  default  \n",
       "0  0.398535        0.285411   -0.536743    False  \n",
       "1 -2.161768       -1.629243   -1.080777     True  \n",
       "2 -0.207909       -0.352807   -0.586201    False  \n",
       "3  0.215073        0.285411   -0.421342    False  \n",
       "4 -2.321198        0.923629   -0.108110    False  "
      ]
     },
     "execution_count": 12,
     "metadata": {},
     "output_type": "execute_result"
    }
   ],
   "source": [
    "df = pd.read_csv(data_path)\n",
    "df.head()"
   ]
  },
  {
   "cell_type": "code",
   "execution_count": 13,
   "metadata": {},
   "outputs": [
    {
     "data": {
      "text/plain": [
       "((10000, 6), (10000,))"
      ]
     },
     "execution_count": 13,
     "metadata": {},
     "output_type": "execute_result"
    }
   ],
   "source": [
    "# Split the data into features and target\n",
    "X = df.drop(\"default\", axis=1)\n",
    "y = df[\"default\"]\n",
    "X.shape, y.shape"
   ]
  },
  {
   "cell_type": "code",
   "execution_count": 14,
   "metadata": {},
   "outputs": [
    {
     "data": {
      "text/plain": [
       "((8000, 6), (2000, 6), (8000,), (2000,))"
      ]
     },
     "execution_count": 14,
     "metadata": {},
     "output_type": "execute_result"
    }
   ],
   "source": [
    "from sklearn.model_selection import train_test_split\n",
    "\n",
    "X_train, X_test, y_train, y_test = train_test_split(\n",
    "    X, y, test_size=0.2, random_state=random_seed\n",
    ")\n",
    "X_train.shape, X_test.shape, y_train.shape, y_test.shape"
   ]
  },
  {
   "cell_type": "markdown",
   "metadata": {},
   "source": [
    "---"
   ]
  },
  {
   "cell_type": "markdown",
   "metadata": {},
   "source": [
    "## 3. Model Experimentation"
   ]
  },
  {
   "cell_type": "code",
   "execution_count": 25,
   "metadata": {},
   "outputs": [],
   "source": [
    "import matplotlib.pyplot as plt\n",
    "from sklearn.metrics import classification_report, confusion_matrix, ConfusionMatrixDisplay\n",
    "\n",
    "def eval_log_model(model, X_test, y_test, y_pred, params, run_name):\n",
    "    \"\"\"\n",
    "    Evaluate and log a model.\n",
    "\n",
    "    Parameters:\n",
    "    X_test (array-like): Testing feature data.\n",
    "    y_test (array-like): Testing target data.\n",
    "    params (dict): Parameters for the Logistic Regression model.\n",
    "    run_name (str): Name for the MLflow run.\n",
    "\n",
    "    Returns:\n",
    "    dict: A dictionary containing evaluation metrics.\n",
    "    matplotlib.figure.Figure: The confusion matrix figure.\n",
    "    \"\"\"\n",
    "    \n",
    "    # Generate a classification report and confusion matrix\n",
    "    class_report = classification_report(y_test, y_pred, output_dict=True)\n",
    "    conf_matrix = confusion_matrix(y_test, y_pred)\n",
    "    \n",
    "    # Extract confusion matrix values\n",
    "    tn, fp, fn, tp = conf_matrix.ravel().astype(int)\n",
    "    \n",
    "    # Extract evaluation metrics for the 'default' and 'no_default' classes\n",
    "    default_precision, default_recall, default_f1_score, _ = class_report[\"True\"].values()\n",
    "    no_default_precision, no_default_recall, no_default_f1_score, _ = class_report[\"False\"].values()\n",
    "    \n",
    "    # Create and display the confusion matrix\n",
    "    fig, ax = plt.subplots(figsize=(7, 6))\n",
    "    cm_display = ConfusionMatrixDisplay(confusion_matrix=conf_matrix, display_labels=[\"no_default\", \"default\"])\n",
    "    cm_display.plot(ax=ax, cmap=\"Blues\")  # Use the 'Blues' colormap for blue colors\n",
    "    ax.set_title(\"Confusion Matrix\")  # Add a title\n",
    "    \n",
    "    # Compile evaluation metrics into a dictionary\n",
    "    metrics = {\n",
    "        \"default_precision\": default_precision,\n",
    "        \"default_recall\": default_recall,\n",
    "        \"default_f1_score\": default_f1_score,\n",
    "        \"no_default_precision\": no_default_precision,\n",
    "        \"no_default_recall\": no_default_recall,\n",
    "        \"no_default_f1_score\": no_default_f1_score,\n",
    "        \"false_positives\": int(fp),\n",
    "        \"false_negatives\": int(fn),\n",
    "    }\n",
    "    metrics = {k:round(v,2) for k,v in metrics.items()}\n",
    "    \n",
    "    # Log the model and metrics in MLflow\n",
    "    with mlflow.start_run(run_name=run_name) as run:\n",
    "        mlflow.log_params(params)  # Log model parameters\n",
    "        mlflow.log_metrics(metrics)  # Log evaluation metrics\n",
    "        mlflow.log_figure(fig, \"confusion_matrix.png\")  # Log confusion matrix figure\n",
    "        mlflow.sklearn.log_model(sk_model=model, input_example=X_test, artifact_path=run_name)  # Log the model\n",
    "    \n",
    "    return metrics, fig"
   ]
  },
  {
   "cell_type": "markdown",
   "metadata": {},
   "source": [
    "### A. Logistic Regression"
   ]
  },
  {
   "cell_type": "code",
   "execution_count": 162,
   "metadata": {},
   "outputs": [],
   "source": [
    "#Set the experiment name\n",
    "experiment_tags = {\"project_name\":\"Loan Default Prediction\" ,\"data\": \"Loan Data\",\"team\":\"Kallel-Rigoni-Rodner\", \"model\": \"Logistic Regression\"}\n",
    "logistic_regression_experiment = client.create_experiment(name=\"Logistic_Regression\",tags=experiment_tags)"
   ]
  },
  {
   "cell_type": "code",
   "execution_count": 18,
   "metadata": {},
   "outputs": [
    {
     "data": {
      "text/plain": [
       "<Experiment: artifact_location='mlflow-artifacts:/212771965211801295', creation_time=1725676705720, experiment_id='212771965211801295', last_update_time=1725676705720, lifecycle_stage='active', name='Logistic_Regression', tags={'data': 'Loan Data',\n",
       " 'model': 'Logistic Regression',\n",
       " 'project_name': 'Loan Default Prediction',\n",
       " 'team': 'Kallel-Rigoni-Rodner'}>"
      ]
     },
     "execution_count": 18,
     "metadata": {},
     "output_type": "execute_result"
    }
   ],
   "source": [
    "mlflow.set_experiment(\"Logistic_Regression\")"
   ]
  },
  {
   "cell_type": "code",
   "execution_count": 19,
   "metadata": {},
   "outputs": [
    {
     "name": "stderr",
     "output_type": "stream",
     "text": [
      "/mnt/77165487061AF296/Sorbonne_Data_Analytics_SDA/Cours/ML-OPS_Kamila.Kare/Projet_ML_Ops/.venv/lib/python3.11/site-packages/mlflow/types/utils.py:407: UserWarning: Hint: Inferred schema contains integer column(s). Integer columns in Python cannot represent missing values. If your input data contains missing values at inference time, it will be encoded as floats and will cause a schema enforcement error. The best way to avoid this problem is to infer the model schema based on a realistic data sample (training dataset) that includes missing values. Alternatively, you can declare integer columns as doubles (float64) whenever these columns may have missing values. See `Handling Integers With Missing Values <https://www.mlflow.org/docs/latest/models.html#handling-integers-with-missing-values>`_ for more details.\n",
      "  warnings.warn(\n",
      "2024/09/07 09:32:47 INFO mlflow.tracking._tracking_service.client: 🏃 View run Logistic_regression_balanced_saga_elasticnet at: http://127.0.0.1:8080/#/experiments/212771965211801295/runs/0b2923c412a54e60ad818a427097a780.\n",
      "2024/09/07 09:32:47 INFO mlflow.tracking._tracking_service.client: 🧪 View experiment at: http://127.0.0.1:8080/#/experiments/212771965211801295.\n"
     ]
    },
    {
     "data": {
      "text/plain": [
       "{'default_precision': 0.98,\n",
       " 'default_recall': 1.0,\n",
       " 'default_f1_score': 0.99,\n",
       " 'no_default_precision': 1.0,\n",
       " 'no_default_recall': 1.0,\n",
       " 'no_default_f1_score': 1.0,\n",
       " 'false_positives': 6,\n",
       " 'false_negatives': 1}"
      ]
     },
     "execution_count": 19,
     "metadata": {},
     "output_type": "execute_result"
    },
    {
     "data": {
      "image/png": "[encoded data removed]",
      "text/plain": [
       "<Figure size 700x600 with 2 Axes>"
      ]
     },
     "metadata": {},
     "output_type": "display_data"
    }
   ],
   "source": [
    "from sklearn.linear_model import LogisticRegression\n",
    "\n",
    "# Define the model parameters\n",
    "run_name=\"Logistic_regression_balanced_saga_elasticnet\"\n",
    "model_params = {\n",
    "    \"fit_intercept\":True,\n",
    "    \"class_weight\":'balanced',\n",
    "    \"penalty\":'elasticnet',\n",
    "    \"solver\":\"saga\",\n",
    "    \"l1_ratio\":0.5,\n",
    "    \"max_iter\":1000,\n",
    "    \"random_state\":random_seed,\n",
    "}\n",
    "\n",
    "# Create a Logistic Regression model with the given parameters\n",
    "model = LogisticRegression(**model_params)\n",
    "\n",
    "# Fit the model on the training data\n",
    "model.fit(X_train, y_train)\n",
    "\n",
    "# Make predictions on the test data\n",
    "y_pred = model.predict(X_test)\n",
    "\n",
    "class_report,conf_matrix = eval_log_model(model, X_test, y_test,y_pred,model_params,run_name)\n",
    "\n",
    "class_report"
   ]
  },
  {
   "cell_type": "markdown",
   "metadata": {},
   "source": [
    "### B. Random Forest"
   ]
  },
  {
   "cell_type": "code",
   "execution_count": 5,
   "metadata": {},
   "outputs": [],
   "source": [
    "#Set the experiment name\n",
    "experiment_tags = {\"project_name\":\"Loan Default Prediction\" ,\"data\": \"Loan Data\",\"team\":\"Kallel-Rigoni-Rodner\", \"model\": \"Random Forest\"}\n",
    "logistic_regression_experiment = client.create_experiment(name=\"Random_Forest\",tags=experiment_tags)"
   ]
  },
  {
   "cell_type": "code",
   "execution_count": 6,
   "metadata": {},
   "outputs": [
    {
     "data": {
      "text/plain": [
       "<Experiment: artifact_location='mlflow-artifacts:/178832077955442563', creation_time=1725697641321, experiment_id='178832077955442563', last_update_time=1725697641321, lifecycle_stage='active', name='Random_Forest', tags={'data': 'Loan Data',\n",
       " 'model': 'Random Forest',\n",
       " 'project_name': 'Loan Default Prediction',\n",
       " 'team': 'Kallel-Rigoni-Rodner'}>"
      ]
     },
     "execution_count": 6,
     "metadata": {},
     "output_type": "execute_result"
    }
   ],
   "source": [
    "mlflow.set_experiment(\"Random_Forest\")"
   ]
  },
  {
   "cell_type": "code",
   "execution_count": 31,
   "metadata": {},
   "outputs": [
    {
     "name": "stderr",
     "output_type": "stream",
     "text": [
      "/mnt/77165487061AF296/Sorbonne_Data_Analytics_SDA/Cours/ML-OPS_Kamila.Kare/Projet_ML_Ops/.venv/lib/python3.11/site-packages/mlflow/types/utils.py:407: UserWarning: Hint: Inferred schema contains integer column(s). Integer columns in Python cannot represent missing values. If your input data contains missing values at inference time, it will be encoded as floats and will cause a schema enforcement error. The best way to avoid this problem is to infer the model schema based on a realistic data sample (training dataset) that includes missing values. Alternatively, you can declare integer columns as doubles (float64) whenever these columns may have missing values. See `Handling Integers With Missing Values <https://www.mlflow.org/docs/latest/models.html#handling-integers-with-missing-values>`_ for more details.\n",
      "  warnings.warn(\n",
      "2024/09/07 09:42:03 INFO mlflow.tracking._tracking_service.client: 🏃 View run Random_Forest_depth_6_estimators_50 at: http://127.0.0.1:8080/#/experiments/212771965211801295/runs/d925e83fb1644b9d8fa1e18853553968.\n",
      "2024/09/07 09:42:03 INFO mlflow.tracking._tracking_service.client: 🧪 View experiment at: http://127.0.0.1:8080/#/experiments/212771965211801295.\n"
     ]
    },
    {
     "data": {
      "text/plain": [
       "{'default_precision': 0.99,\n",
       " 'default_recall': 0.98,\n",
       " 'default_f1_score': 0.99,\n",
       " 'no_default_precision': 1.0,\n",
       " 'no_default_recall': 1.0,\n",
       " 'no_default_f1_score': 1.0,\n",
       " 'false_positives': 2,\n",
       " 'false_negatives': 8}"
      ]
     },
     "execution_count": 31,
     "metadata": {},
     "output_type": "execute_result"
    },
    {
     "data": {
      "image/png": "[encoded data removed]",
      "text/plain": [
       "<Figure size 700x600 with 2 Axes>"
      ]
     },
     "metadata": {},
     "output_type": "display_data"
    }
   ],
   "source": [
    "from sklearn.ensemble import RandomForestRegressor\n",
    "\n",
    "# Define the model parameters\n",
    "run_name=\"Random_Forest_depth_6_estimators_50\"\n",
    "model_params = {\n",
    "    \"n_estimators\": 50,\n",
    "    \"max_depth\": 6,\n",
    "    \"min_samples_split\": 10,\n",
    "    \"min_samples_leaf\": 4,\n",
    "    \"bootstrap\": True,\n",
    "    \"oob_score\": False,\n",
    "    \"random_state\":random_seed,\n",
    "}\n",
    "\n",
    "model = RandomForestRegressor(**model_params)\n",
    "\n",
    "# Fit the model on the training data\n",
    "model.fit(X_train, y_train)\n",
    "\n",
    "# Make predictions on the test data\n",
    "y_pred = model.predict(X_test)\n",
    "y_pred = np.where(y_pred > 0.5, 1, 0)\n",
    "\n",
    "class_report,conf_matrix = eval_log_model(model, X_test, y_test,y_pred, model_params,run_name)\n",
    "\n",
    "class_report"
   ]
  },
  {
   "cell_type": "markdown",
   "metadata": {},
   "source": [
    "---"
   ]
  },
  {
   "cell_type": "markdown",
   "metadata": {},
   "source": [
    "## 4. Conclusion"
   ]
  },
  {
   "cell_type": "markdown",
   "metadata": {},
   "source": [
    "Here is the best model we got to after an analysis of the mlflow runs:"
   ]
  },
  {
   "cell_type": "code",
   "execution_count": 37,
   "metadata": {},
   "outputs": [
    {
     "data": {
      "text/plain": [
       "[<Run: data=<RunData: metrics={'default_f1_score': 0.99,\n",
       "  'default_precision': 0.99,\n",
       "  'default_recall': 1.0,\n",
       "  'false_negatives': 0.0,\n",
       "  'false_positives': 5.0,\n",
       "  'no_default_f1_score': 1.0,\n",
       "  'no_default_precision': 1.0,\n",
       "  'no_default_recall': 1.0}, params={'class_weight': 'balanced',\n",
       "  'fit_intercept': 'True',\n",
       "  'max_iter': '1000',\n",
       "  'penalty': 'l1',\n",
       "  'random_state': '42',\n",
       "  'solver': 'liblinear'}, tags={'mlflow.log-model.history': '[{\"run_id\": \"4ac144eee0834911930a1988cdf759b4\", '\n",
       "                              '\"artifact_path\": '\n",
       "                              '\"Logistic_regression_balanced_linear_l1\", '\n",
       "                              '\"utc_time_created\": \"2024-09-07 '\n",
       "                              '02:51:44.405971\", \"flavors\": {\"python_function\": '\n",
       "                              '{\"model_path\": \"model.pkl\", \"predict_fn\": '\n",
       "                              '\"predict\", \"loader_module\": \"mlflow.sklearn\", '\n",
       "                              '\"python_version\": \"3.11.6\", \"env\": {\"conda\": '\n",
       "                              '\"conda.yaml\", \"virtualenv\": \"python_env.yaml\"}}, '\n",
       "                              '\"sklearn\": {\"pickled_model\": \"model.pkl\", '\n",
       "                              '\"sklearn_version\": \"1.5.1\", '\n",
       "                              '\"serialization_format\": \"cloudpickle\", \"code\": '\n",
       "                              'null}}, \"model_uuid\": '\n",
       "                              '\"fbed2a68551045e7bf3ad71db8014ab4\"}]',\n",
       "  'mlflow.runName': 'Logistic_regression_balanced_linear_l1',\n",
       "  'mlflow.source.name': '/mnt/77165487061AF296/Sorbonne_Data_Analytics_SDA/Cours/ML-OPS_Kamila.Kare/Projet_ML_Ops/.venv/lib/python3.11/site-packages/ipykernel_launcher.py',\n",
       "  'mlflow.source.type': 'LOCAL',\n",
       "  'mlflow.user': 'edith'}>, info=<RunInfo: artifact_uri='mlflow-artifacts:/212771965211801295/4ac144eee0834911930a1988cdf759b4/artifacts', end_time=1725677507961, experiment_id='212771965211801295', lifecycle_stage='active', run_id='4ac144eee0834911930a1988cdf759b4', run_name='Logistic_regression_balanced_linear_l1', run_uuid='4ac144eee0834911930a1988cdf759b4', start_time=1725677504257, status='FINISHED', user_id='edith'>, inputs=<RunInputs: dataset_inputs=[]>>]"
      ]
     },
     "execution_count": 37,
     "metadata": {},
     "output_type": "execute_result"
    }
   ],
   "source": [
    "best_run = client.search_runs('212771965211801295',\n",
    "   filter_string=\"run_name='Logistic_regression_balanced_linear_l1'\")\n",
    "best_run"
   ]
  }
 ],
 "metadata": {
  "kernelspec": {
   "display_name": ".venv",
   "language": "python",
   "name": "python3"
  },
  "language_info": {
   "codemirror_mode": {
    "name": "ipython",
    "version": 3
   },
   "file_extension": ".py",
   "mimetype": "text/x-python",
   "name": "python",
   "nbconvert_exporter": "python",
   "pygments_lexer": "ipython3",
   "version": "3.11.6"
  }
 },
 "nbformat": 4,
 "nbformat_minor": 2
}
